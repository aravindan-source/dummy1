{
 "cells": [
  {
   "cell_type": "markdown",
   "id": "aa5876eb",
   "metadata": {},
   "source": [
    "### Automatic Assignment of multiple variables in a for loop"
   ]
  },
  {
   "cell_type": "code",
   "execution_count": 19,
   "id": "0be9570a",
   "metadata": {},
   "outputs": [
    {
     "name": "stdout",
     "output_type": "stream",
     "text": [
      "[1, 100, 90]\n",
      "[(90, 'Chevy'), (100, 'Ford'), (1, 'Toyota')]\n",
      "[(1, 'Toyota'), (90, 'Chevy'), (100, 'Ford')]\n",
      "90 -> Chevy\n",
      "100 -> Ford\n",
      "1 -> Toyota\n"
     ]
    }
   ],
   "source": [
    "a_dict = {\n",
    "  100: \"Ford\",\n",
    "  90: \"Chevy\",\n",
    "  1: \"Toyota\"\n",
    "}\n",
    "\n",
    "print(sorted(a_dict, key=lambda x: a_dict[x], reverse=True))\n",
    "print(sorted(a_dict.items(), key=lambda x: x[1]))\n",
    "print(sorted(a_dict.items()))\n",
    "\n",
    "for key, value in sorted(a_dict.items(), key=lambda x: x[1]):\n",
    "    print(f\"{key} -> {value}\")"
   ]
  },
  {
   "cell_type": "markdown",
   "id": "5e9fc47d",
   "metadata": {},
   "source": [
    "### Lambda Functions"
   ]
  },
  {
   "cell_type": "code",
   "execution_count": 1,
   "id": "382e6147",
   "metadata": {},
   "outputs": [
    {
     "name": "stdout",
     "output_type": "stream",
     "text": [
      "25\n"
     ]
    }
   ],
   "source": [
    "def square(x):\n",
    "    \"\"\"Return the square of x.\"\"\"\n",
    "    return x * x\n",
    "\n",
    "print(square(5))  # Output: 25"
   ]
  },
  {
   "cell_type": "code",
   "execution_count": 2,
   "id": "8fb417cf",
   "metadata": {},
   "outputs": [
    {
     "name": "stdout",
     "output_type": "stream",
     "text": [
      "25\n"
     ]
    }
   ],
   "source": [
    "square_lambda = lambda x: x * x\n",
    "print(square_lambda(5))  # Output: 25"
   ]
  },
  {
   "cell_type": "markdown",
   "id": "05ebdd34",
   "metadata": {},
   "source": [
    "### Sort function"
   ]
  },
  {
   "cell_type": "code",
   "execution_count": 12,
   "id": "ee8fb53e",
   "metadata": {},
   "outputs": [
    {
     "name": "stdout",
     "output_type": "stream",
     "text": [
      "a after sort() = [-3, 1, 2, 3, 5, 6, 6, 7, 8, 9, 73, 90, 110]\n",
      "a=[1, 2, 110, -3, 5, 6, 90, 73, 9, 3, 6, 7, 8] and sorted_a=[-3, 1, 2, 3, 5, 6, 6, 7, 8, 9, 73, 90, 110]\n",
      "a after sort(reverse=True) = [110, 90, 73, 9, 8, 7, 6, 6, 5, 3, 2, 1, -3]\n",
      "['kiwi', 'apple', 'banana', 'cherry', 'blueberry']\n",
      "sorted list of strings by length: ['kiwi', 'apple', 'banana', 'cherry', 'blueberry']\n",
      "[(5, 0), (3, 1), (1, 2), (4, 3)]\n",
      "sorted list of tuples by second element: [(5, 0), (3, 1), (1, 2), (4, 3)]\n",
      "sorted by last char = ['banana', 'apple', 'kiwi', 'cherry', 'blueberry']\n",
      "['apple', 'banana', 'blueberry', 'cherry', 'kiwi']\n",
      "['banana', 'cherry', 'kiwi', 'blueberry', 'apple']\n",
      "['apple', 'banana', 'kiwi', 'cherry', 'blueberry', '123']\n",
      "['kiwi', 'apple', 'banana', 'cherry', 'blueberry']\n",
      "['kiwi', 'apple', 'banana', 'cherry', 'blueberry']\n",
      "['kiwi', 'apple', 'banana', 'cherry', 'blueberry']\n",
      "['123', 'kiwi', 'apple', 'banana', 'cherry', 'blueberry']\n",
      "['apple', 'banana', 'blueberry', 'cherry', 'kiwi']\n",
      "['banana', 'apple', 'kiwi', 'cherry', 'blueberry']\n",
      "['banana', 'cherry', 'kiwi', 'blueberry', 'apple']\n",
      "['kiwi', 'apple', 'banana', 'cherry', 'blueberry', '123']\n",
      "['123', 'kiwi', 'apple', 'banana', 'cherry', 'blueberry']\n"
     ]
    }
   ],
   "source": [
    "a = [1,2,110,-3,5,6,90,73,9,3,6,7,8]\n",
    "a.sort()\n",
    "print(f'a after sort() = {a}')  # Output: [-3, 1, 2, 3, 5, 6, 6, 7, 8, 9, 73, 90, 110]\n",
    "\n",
    "a = [1,2,110,-3,5,6,90,73,9,3,6,7,8]\n",
    "sorted_a = sorted(a)\n",
    "print(f'a={a} and sorted_a={sorted_a}')  # Output: [-3, 1, 2, 3, 5, 6, 6, 7, 8, 9, 73, 90, 110]\n",
    "#//////////////////////////\n",
    "### sort in reverse order - applies to both sort() and sorted()\n",
    "a.sort(reverse=True)\n",
    "print(f'a after sort(reverse=True) = {a}')  # Output: [110, 90, 73, 9, 8, 7, 6, 6, 5, 3, 2, 1, -3]\n",
    "\n",
    "def sort_by_length(lst):\n",
    "    \"\"\"Sort a list of strings by their length.\"\"\"\n",
    "    return sorted(lst, key=lambda x: len(x))\n",
    "lst = ['apple', 'banana', 'kiwi', 'cherry', 'blueberry']\n",
    "sorted_lst = sort_by_length(lst)\n",
    "print(sorted_lst)  # Output: ['kiwi', 'apple', 'banana', 'cherry', 'blueberry']\n",
    "#//////////////////////////\n",
    "print(f'sorted list of strings by length: {sorted(lst, key=len)}')  # Output: ['kiwi', 'apple', 'banana', 'cherry', 'blueberry']\n",
    "#//////////////////////////\n",
    "\n",
    "def sort_by_second_element(t):\n",
    "    \"\"\"Sort a list of tuples by the second element.\"\"\"\n",
    "    return sorted(t, key=lambda x: x[1])\n",
    "t = [(1, 2), (3, 1), (5, 0), (4, 3)]\n",
    "sorted_t = sort_by_second_element(t)\n",
    "print(sorted_t)  # Output: [(5, 0), (3, 1), (1, 2), (4, 3)]\n",
    "#//////////////////////////\n",
    "print(f'sorted list of tuples by second element: {sorted(t, key=lambda x:x[1])}')  # Output: [(5, 0), (3, 1), (1, 2), (4, 3)]\n",
    "#//////////////////////////\n",
    "\n",
    "def sort_by_last_char(lst):\n",
    "    \"\"\"Sort a list of strings by their last character.\"\"\"\n",
    "    return sorted(lst, key=lambda x: x[-1])\n",
    "lst = ['apple', 'banana', 'kiwi', 'cherry', 'blueberry']\n",
    "sorted_lst = sort_by_last_char(lst)\n",
    "print(f'sorted by last char = {sorted_lst}')  # Output: ['banana', 'apple', 'kiwi', 'cherry', 'blueberry']\n",
    "#//////////////////////////\n",
    "\n",
    "def sort_by_first_char(lst):\n",
    "    \"\"\"Sort a list of strings by their first character.\"\"\"\n",
    "    return sorted(lst, key=lambda x: x[0])\n",
    "lst = ['apple', 'banana', 'kiwi', 'cherry', 'blueberry']\n",
    "sorted_lst = sort_by_first_char(lst)\n",
    "print(f'sorted by first char = {sorted_lst}')  # Output: ['apple', 'banana', 'blueberry', 'cherry', 'kiwi']\n",
    "#//////////////////////////\n",
    "\n",
    "def sort_by_second_char(lst):\n",
    "    \"\"\"Sort a list of strings by their second character.\"\"\"\n",
    "    return sorted(lst, key=lambda x: x[1] if len(x) > 1 else '')\n",
    "lst = ['apple', 'banana', 'kiwi', 'cherry', 'blueberry']\n",
    "sorted_lst = sort_by_second_char(lst)\n",
    "print(f'sorted by second char = {sorted_lst}')  # Output: ['banana', 'apple', 'blueberry', 'cherry', 'kiwi']\n",
    "#//////////////////////////\n",
    "\n",
    "def sort_by_first_digit(lst):\n",
    "    \"\"\"Sort a list of strings by their first digit.\"\"\"\n",
    "    return sorted(lst, key=lambda x: x[0] if x[0].isdigit() else '')\n",
    "lst = ['apple', 'banana', 'kiwi', 'cherry', 'blueberry', '123']\n",
    "sorted_lst = sort_by_first_digit(lst)\n",
    "print(f'sorted by first digit = {sorted_lst}')  # Output: ['123', 'apple', 'banana', 'blueberry', 'cherry', 'kiwi']\n",
    "#//////////////////////////\n",
    "\n",
    "def sort_by_length_and_first_char(lst):\n",
    "    \"\"\"Sort a list of strings by their length and then by their first character.\"\"\"\n",
    "    return sorted(lst, key=lambda x: (len(x), x[0]))\n",
    "lst = ['apple', 'banana', 'kiwi', 'cherry', 'blueberry']\n",
    "sorted_lst = sort_by_length_and_first_char(lst)\n",
    "print(sorted_lst)  # Output: ['kiwi', 'apple', 'banana', 'cherry', 'blueberry']\n",
    "def sort_by_length_and_last_char(lst):\n",
    "    \"\"\"Sort a list of strings by their length and then by their last character.\"\"\"\n",
    "    return sorted(lst, key=lambda x: (len(x), x[-1]))\n",
    "lst = ['apple', 'banana', 'kiwi', 'cherry', 'blueberry']\n",
    "sorted_lst = sort_by_length_and_last_char(lst)\n",
    "print(sorted_lst)  # Output: ['kiwi', 'apple', 'banana', 'cherry', 'blueberry']\n",
    "def sort_by_length_and_second_char(lst):\n",
    "    \"\"\"Sort a list of strings by their length and then by their second character.\"\"\"\n",
    "    return sorted(lst, key=lambda x: (len(x), x[1] if len(x) > 1 else ''))\n",
    "lst = ['apple', 'banana', 'kiwi', 'cherry', 'blueberry']\n",
    "sorted_lst = sort_by_length_and_second_char(lst)\n",
    "print(sorted_lst)  # Output: ['kiwi', 'apple', 'banana', 'cherry', 'blueberry']\n",
    "def sort_by_length_and_first_digit(lst):\n",
    "    \"\"\"Sort a list of strings by their length and then by their first digit.\"\"\"\n",
    "    return sorted(lst, key=lambda x: (len(x), x[0] if x[0].isdigit() else ''))\n",
    "lst = ['apple', 'banana', 'kiwi', 'cherry', 'blueberry', '123']\n",
    "sorted_lst = sort_by_length_and_first_digit(lst)\n",
    "print(sorted_lst)  # Output: ['123', 'kiwi', 'apple', 'banana', 'blueberry', 'cherry']\n",
    "def sort_by_first_char_and_length(lst):\n",
    "    \"\"\"Sort a list of strings by their first character and then by their length.\"\"\"\n",
    "    return sorted(lst, key=lambda x: (x[0], len(x)))\n",
    "lst = ['apple', 'banana', 'kiwi', 'cherry', 'blueberry']\n",
    "sorted_lst = sort_by_first_char_and_length(lst)\n",
    "print(sorted_lst)  # Output: ['apple', 'banana', 'blueberry', 'cherry', 'kiwi']\n",
    "def sort_by_last_char_and_length(lst):\n",
    "    \"\"\"Sort a list of strings by their last character and then by their length.\"\"\"\n",
    "    return sorted(lst, key=lambda x: (x[-1], len(x)))\n",
    "lst = ['apple', 'banana', 'kiwi', 'cherry', 'blueberry']\n",
    "sorted_lst = sort_by_last_char_and_length(lst)\n",
    "print(sorted_lst)  # Output: ['banana', 'kiwi', 'blueberry', 'cherry', 'apple']\n",
    "def sort_by_second_char_and_length(lst):\n",
    "    \"\"\"Sort a list of strings by their second character and then by their length.\"\"\"\n",
    "    return sorted(lst, key=lambda x: (x[1] if len(x) > 1 else '', len(x)))\n",
    "lst = ['apple', 'banana', 'kiwi', 'cherry', 'blueberry']\n",
    "sorted_lst = sort_by_second_char_and_length(lst)\n",
    "print(sorted_lst)  # Output: ['banana', 'apple', 'blueberry', 'cherry', 'kiwi']\n",
    "def sort_by_first_digit_and_length(lst):\n",
    "    \"\"\"Sort a list of strings by their first digit and then by their length.\"\"\"\n",
    "    return sorted(lst, key=lambda x: (x[0] if x[0].isdigit() else '', len(x)))\n",
    "lst = ['apple', 'banana', 'kiwi', 'cherry', 'blueberry', '123']\n",
    "sorted_lst = sort_by_first_digit_and_length(lst)\n",
    "print(sorted_lst)  # Output: ['123', 'kiwi', 'apple', 'banana', 'blueberry', 'cherry']\n",
    "def sort_by_length_and_first_digit_and_first_char(lst):\n",
    "    \"\"\"Sort a list of strings by their length, first digit, and first character.\"\"\"\n",
    "    return sorted(lst, key=lambda x: (len(x), x[0] if x[0].isdigit() else '', x[0]))\n",
    "lst = ['apple', 'banana', 'kiwi', 'cherry', 'blueberry', '123']\n",
    "sorted_lst = sort_by_length_and_first_digit_and_first_char(lst)\n",
    "print(sorted_lst)  # Output: ['123', 'kiwi', 'apple', 'banana', 'blueberry', 'cherry']\n",
    "\n"
   ]
  },
  {
   "cell_type": "markdown",
   "id": "5989b952",
   "metadata": {},
   "source": [
    "### Map Function"
   ]
  },
  {
   "cell_type": "code",
   "execution_count": 21,
   "id": "ea7ab147",
   "metadata": {},
   "outputs": [
    {
     "name": "stdout",
     "output_type": "stream",
     "text": [
      "Squared numbers: [0, 1, 4, 9, 16, 25, 36, 49, 64, 81, 100]\n"
     ]
    }
   ],
   "source": [
    "numbers = list(range(11))  # creates a list of numbers from 0 to 10\n",
    "squared_numbers = list(map(lambda x: x * x, numbers))   # applies the lambda function to each element in the numbers list\n",
    "print(f'Squared numbers: {squared_numbers}')  # Output: [0, 1, 4, 9, 16, 25, 36, 49, 64, 81]"
   ]
  },
  {
   "cell_type": "markdown",
   "id": "9921c4e7",
   "metadata": {},
   "source": [
    "### Zip Function"
   ]
  },
  {
   "cell_type": "code",
   "execution_count": 33,
   "id": "ee1a3059",
   "metadata": {},
   "outputs": [
    {
     "name": "stdout",
     "output_type": "stream",
     "text": [
      "Name-Score Dictionary: {'Alice': 85, 'Bob': 92, 'Charlie': 78, 'David': 90, 'Aravind': 100}\n",
      "Tuple created using Zip = (('Alice', 85), ('Bob', 92), ('Charlie', 78), ('David', 90), ('Aravind', 100))\n",
      "List created using Zip = [('Alice', 85), ('Bob', 92), ('Charlie', 78), ('David', 90), ('Aravind', 100)]\n"
     ]
    }
   ],
   "source": [
    "names = ['Alice', 'Bob', 'Charlie', 'David', 'Aravind']\n",
    "scores = [85, 92, 78, 90, 100]\n",
    "\n",
    "\"\"\"Create a dictionary from two lists.\"\"\"\n",
    "print(f'Name-Score Dictionary: {dict(zip(names, scores))}')  # Output: {'Alice': 85, 'Bob': 92, 'Charlie': 78, 'David': 90}\n",
    "\n",
    "print(f'Tuple created using Zip = {tuple(zip(names, scores))}')  # Output: (('Alice', 85), ('Bob', 92), ('Charlie', 78), ('David', 90), ('Aravind', 100))\n",
    "print(f'List created using Zip = {list(zip(names, scores))}')  # Output: [('Alice', 85), ('Bob', 92), ('Charlie', 78), ('David', 90), ('Aravind', 100)]"
   ]
  },
  {
   "cell_type": "markdown",
   "id": "df1055fc",
   "metadata": {},
   "source": [
    "### Packing and Unpacking in Python"
   ]
  },
  {
   "cell_type": "code",
   "execution_count": 41,
   "id": "fac04199",
   "metadata": {},
   "outputs": [
    {
     "name": "stdout",
     "output_type": "stream",
     "text": [
      "Unpacked Tuple values: a=1, b=2, c=3\n",
      "Packed tuple: (1, 2, 3)\n",
      "Unpacked List values: x=1, y=2, z=3\n",
      "Packed list: [1, 2, 3]\n",
      "1 2 [3, 4, 5]\n",
      "1 [2, 3, 4] 5\n",
      "Unpacked Dict values: a=('a', 1), b=('b', 2), c=('c', 3)\n",
      "<class 'tuple'> <class 'tuple'> <class 'tuple'>\n",
      "Packed dictionary: {'a': 1, 'b': 2, 'c': 3}\n",
      "Unpacked Set values: a=1, b=2, c=3\n",
      "Packed set: {1, 2, 3}\n"
     ]
    }
   ],
   "source": [
    "# Packing and unpacking tuples\n",
    "def pack_unpack_example():\n",
    "    \"\"\"Demonstrate packing and unpacking of tuples.\"\"\"\n",
    "    packed_tuple = 1, 2, 3\n",
    "    a, b, c = packed_tuple  # unpacking\n",
    "    print(f'Unpacked Tuple values: a={a}, b={b}, c={c}')  # Output: Unpacked values: a=1, b=2, c=3\n",
    "    return packed_tuple\n",
    "\n",
    "print(f'Packed tuple: {pack_unpack_example()}')  # Output: Packed tuple: (1, 2, 3)\n",
    "\n",
    "# Packing and unpacking lists\n",
    "def pack_unpack_list_example():\n",
    "    \"\"\"Demonstrate packing and unpacking of lists.\"\"\"\n",
    "    packed_list = [1, 2, 3]\n",
    "    x, y, z = packed_list  # unpacking\n",
    "    print(f'Unpacked List values: x={x}, y={y}, z={z}')  # Output: Unpacked values: x=1, y=2, z=3\n",
    "    return packed_list\n",
    "print(f'Packed list: {pack_unpack_list_example()}')  # Output: Packed list: [1, 2, 3]\n",
    "\n",
    "# You can also unpack using the asterisk operator\n",
    "my_list = [1, 2, 3, 4, 5]\n",
    "a, b, *rest = my_list\n",
    "print(a, b, rest)  # Output: 1 2 [3, 4, 5]\n",
    "\n",
    "a, *middle, last = my_list\n",
    "print(a, middle, last) # Output: 1 [2, 3, 4] 5\n",
    "\n",
    "# Packing and unpacking dictionaries\n",
    "def pack_unpack_dict_example():\n",
    "    \"\"\"Demonstrate packing and unpacking of dictionaries.\"\"\"\n",
    "    packed_dict = {'a': 1, 'b': 2, 'c': 3}\n",
    "    a, b, c = packed_dict.items()  # unpacking values\n",
    "    print(f'Unpacked Dict values: a={a}, b={b}, c={c}')  # Output: Unpacked values: a=1, b=2, c=3\n",
    "    print(type(a), type(b), type(c))  # Output: <class 'tuple'> <class 'tuple'> <class 'tuple'>\n",
    "    return packed_dict\n",
    "print(f'Packed dictionary: {pack_unpack_dict_example()}')  # Output: Packed dictionary: {'a': 1, 'b': 2, 'c': 3}\n",
    "\n",
    "# Packing and unpacking sets\n",
    "def pack_unpack_set_example():\n",
    "    \"\"\"Demonstrate packing and unpacking of sets.\"\"\"\n",
    "    packed_set = {1, 2, 3}\n",
    "    a, b, c = list(packed_set)  # unpacking by converting to list\n",
    "    print(f'Unpacked Set values: a={a}, b={b}, c={c}')  # Output: Unpacked values: a=1, b=2, c=3\n",
    "    return packed_set\n",
    "print(f'Packed set: {pack_unpack_set_example()}')  # Output: Packed set: {1, 2, 3}\n"
   ]
  },
  {
   "cell_type": "code",
   "execution_count": 46,
   "id": "70e3832e",
   "metadata": {},
   "outputs": [
    {
     "name": "stdout",
     "output_type": "stream",
     "text": [
      "('Alice', 85) ('Bob', 92) ('Charlie', 78) ('David', 90) ('Aravind', 100)\n",
      "Unzipped names: ('Alice', 'Bob', 'Charlie', 'David', 'Aravind')\n",
      "Unzipped scores: (85, 92, 78, 90, 100)\n"
     ]
    }
   ],
   "source": [
    "names = ['Alice', 'Bob', 'Charlie', 'David', 'Aravind']\n",
    "scores = [85, 92, 78, 90, 100]\n",
    "names_scores_list = list(zip(names, scores))\n",
    "print(*names_scores_list)  # Output: ('Alice', 85) ('Bob', 92) ('Charlie', 78) ('David', 90) ('Aravind', 100)\n",
    "\n",
    "names, scores = zip(*names_scores_list)  # Unzipping\n",
    "print(f'Unzipped names: {names}')  # Output: Unzipped names: ('Alice', 'Bob', 'Charlie', 'David', 'Aravind')\n",
    "print(f'Unzipped scores: {scores}')  # Output: Unzipped scores: (85, 92, 78, 90, 100)"
   ]
  },
  {
   "cell_type": "markdown",
   "id": "54db733a",
   "metadata": {},
   "source": [
    "### Function Packing and Unpacking"
   ]
  },
  {
   "cell_type": "code",
   "execution_count": 43,
   "id": "4d133bb3",
   "metadata": {},
   "outputs": [
    {
     "name": "stdout",
     "output_type": "stream",
     "text": [
      "1 2 3 4 5\n",
      "15\n"
     ]
    }
   ],
   "source": [
    "nums = [1, 2, 3, 4, 5]\n",
    "print(*nums)  # Output: 1 2 3 4 5\n",
    "\n",
    "def add(x, y, a, b, c=0):\n",
    "    \"\"\"Return the sum of x and y.\"\"\"\n",
    "    return x + y + a + b + c\n",
    "print(add(*nums))  # Output: 5"
   ]
  },
  {
   "cell_type": "markdown",
   "id": "ee1918ce",
   "metadata": {},
   "source": [
    "### List Comprehension\n",
    "\n",
    "Short expressive way to generate a new list or filter a list<br>\n",
    "Syntax: [*expression for item* in *iterable* if *condition*]"
   ]
  },
  {
   "cell_type": "code",
   "execution_count": null,
   "id": "b4e5a72c",
   "metadata": {},
   "outputs": [
    {
     "name": "stdout",
     "output_type": "stream",
     "text": [
      "Numbers list: [1, 2, 3, 4, 5, 1, 2, 3, 4, 5, 1, 2, 3, 4, 5, 1, 2, 3, 4, 5, 1, 2, 3, 4, 5]\n",
      "Old way to create a list of even numbers: [2, 4, 2, 4, 2, 4, 2, 4, 2, 4]\n",
      "New way to create a list of even numbers: [2, 4, 2, 4, 2, 4, 2, 4, 2, 4]\n",
      "Squares of odd numbers: [1, 9, 25, 1, 9, 25, 1, 9, 25, 1, 9, 25, 1, 9, 25]\n"
     ]
    }
   ],
   "source": [
    "numbers = [1, 2, 3, 4, 5]*5\n",
    "print(f'Numbers list: {numbers}')  # Output: Numbers list: [1, 2, 3, 4, 5, 1, 2, 3, 4, 5, ...]\n",
    "\n",
    "# Old way to create a list of even numbers \n",
    "new_numbers = []\n",
    "for i in numbers:\n",
    "    if i % 2 == 0:\n",
    "        new_numbers.append(i)\n",
    "print(f'Old way to create a list of even numbers: {new_numbers}')  # Output: Old way to create a list of even numbers: [2, 4, 2, 4, ...]\n",
    "\n",
    "# New way using list comprehension\n",
    "new_numbers = [i for i in numbers if i % 2 == 0]\n",
    "print(f'New way to create a list of even numbers: {new_numbers}')  # Output: New way to create a list of even numbers: [2, 4, 2, 4, ...]\n",
    "\n",
    "# Using list comprehension to create a list of squares of odd numbers\n",
    "squares = [i * i for i in numbers if i % 2 != 0]\n",
    "print(f'Squares of odd numbers: {squares}')  # Output: Squares of odd numbers: [1, 9, 25, 1, 9, 25, ...]"
   ]
  },
  {
   "cell_type": "markdown",
   "id": "c4c927af",
   "metadata": {},
   "source": [
    "### Dict Comprehension\n",
    "\n",
    "Syntax: {*key_expression* : *value_expression* for *item* in *iterable* if *condition*}"
   ]
  },
  {
   "cell_type": "code",
   "execution_count": 66,
   "id": "501410c1",
   "metadata": {},
   "outputs": [
    {
     "name": "stdout",
     "output_type": "stream",
     "text": [
      "Name-Score Dictionary using Dict comprehension: {'Alice': 85, 'Bob': 92, 'Charlie': 78, 'David': 90, 'Aravind': 100}\n"
     ]
    }
   ],
   "source": [
    "names = ['Alice', 'Bob', 'Charlie', 'David', 'Aravind']\n",
    "scores = [85, 92, 78, 90, 100]\n",
    "# Using list comprehension to create a dictionary from two lists\n",
    "name_score_dict = {name: score for name, score in zip(names, scores)}\n",
    "print(f'Name-Score Dictionary using Dict comprehension: {name_score_dict}')  # Output: {'Alice': 85, 'Bob': 92, 'Charlie': 78, 'David': 90, 'Aravind': 100}"
   ]
  },
  {
   "cell_type": "markdown",
   "id": "63171a01",
   "metadata": {},
   "source": [
    "### Built-in Functions\n",
    "#### title, capitalize, add, sob, print, len, enumerate, range\n"
   ]
  },
  {
   "cell_type": "code",
   "execution_count": 65,
   "id": "911d3cd7",
   "metadata": {},
   "outputs": [
    {
     "name": "stdout",
     "output_type": "stream",
     "text": [
      "Capitalized names and Scores: {'John Doe': 95, 'Jane Smith': 102, 'Alice Johnson': 88}\n"
     ]
    }
   ],
   "source": [
    "## Capitalize the first letter of each word in a string\n",
    "names = ['john doe', 'jane smith', 'alice johnson']\n",
    "scores = [85, 92, 78]\n",
    "\n",
    "result = {name.title() : score+10 for name, score in zip(names, scores)}\n",
    "print(f'Capitalized names and Scores: {result}')  # Output: {'John Doe': 95, 'Jane Smith': 102, 'Alice Johnson': 88}\n"
   ]
  }
 ],
 "metadata": {
  "kernelspec": {
   "display_name": "base",
   "language": "python",
   "name": "python3"
  },
  "language_info": {
   "codemirror_mode": {
    "name": "ipython",
    "version": 3
   },
   "file_extension": ".py",
   "mimetype": "text/x-python",
   "name": "python",
   "nbconvert_exporter": "python",
   "pygments_lexer": "ipython3",
   "version": "3.12.9"
  }
 },
 "nbformat": 4,
 "nbformat_minor": 5
}
