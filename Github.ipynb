{
 "cells": [
  {
   "cell_type": "markdown",
   "id": "50ad083b",
   "metadata": {},
   "source": [
    "## Git and Github Commands"
   ]
  },
  {
   "cell_type": "markdown",
   "id": "a0258f8e",
   "metadata": {},
   "source": [
    "## Git - https://git-scm.com/downloads/mac\n",
    "- Versioning Tool\n",
    "- Tracks code changes\n",
    "- Collaborate with others\n",
    "- Revert back changes\n",
    "- Separate code by functionality (branches)\n",
    "\n",
    "## Github - https://github.com/\n",
    "- Stores Git repositories online.\n",
    "- Share code online (public or private)\n",
    "- pull requests, branches etc.\n"
   ]
  },
  {
   "cell_type": "markdown",
   "id": "ef7df544",
   "metadata": {},
   "source": [
    "## Github Repository\n",
    "https://github.com/aravindan-source <br>\n",
    "And click on 'Repositories' and select 'New'<br>\n",
    "Sample Repository: https://github.com/aravindan-source/dummy1\n"
   ]
  },
  {
   "cell_type": "markdown",
   "id": "c99829db",
   "metadata": {},
   "source": [
    "### create a new repository on the command line\n",
    "echo \"# dummy1\" >> README.md<br>\n",
    "git init --> initialize git<br> *and do ls -a to show all hidden files*<br>\n",
    "git add . --> add all the files for tracking from this folder<br>\n",
    "git commit -m \"first commit\"<br>\n",
    "* If you get error while doing git commit -m then try below commands:\n",
    "* git config --global user.email \"you@example.com\"\n",
    "* git config --global user.name \"aravindan-source\"\n",
    "<br>\n",
    "\n",
    "git branch -M main<br>\n",
    "git remote add origin https://github.com/aravindan-source/dummy1.git<br>\n",
    "git push -u origin main<br>\n",
    "git pull<br>\n",
    "ls -a<br>\n",
    "git push -u origin main<br>"
   ]
  },
  {
   "cell_type": "markdown",
   "id": "15b501cd",
   "metadata": {},
   "source": [
    "git add .<br>\n",
    "git commit -m \"next commit\"<br>\n",
    "git push -u origin main<br>"
   ]
  },
  {
   "cell_type": "markdown",
   "id": "57c221c6",
   "metadata": {},
   "source": [
    "### push an existing repository from the command line\n",
    "git remote add origin https://github.com/aravindan-source/dummy1.git<br>\n",
    "git branch -M main<br>\n",
    "git push -u origin main<br>\n"
   ]
  },
  {
   "cell_type": "markdown",
   "id": "a8e60664",
   "metadata": {},
   "source": [
    "\n",
    "Scope\t    Command\t                Description<br>\n",
    "All Scopes\tgit config --list\t    Shows merged config values from all scopes<br>\n",
    "System\tgit config --system --list\tLists values set at the system level<br>\n",
    "Global\tgit config --global --list\tLists values from your global ~/.gitconfig<br>\n",
    "Local\tgit config --local --list\tLists values specific to the current repository<br>\n",
    "With Origins\tgit config --list --show-origin\tShows where each config value is defined<br>\n"
   ]
  }
 ],
 "metadata": {
  "language_info": {
   "name": "python"
  }
 },
 "nbformat": 4,
 "nbformat_minor": 5
}
