{
 "cells": [
  {
   "cell_type": "markdown",
   "id": "a0258f8e",
   "metadata": {},
   "source": [
    "## Git - https://git-scm.com/downloads/mac\n",
    "- Versioning Tool\n",
    "- Tracks code changes\n",
    "- Collaborate with others\n",
    "- Revert back changes\n",
    "- Separate code by functionality (branches)\n",
    "\n",
    "## Github - https://github.com/\n",
    "- Stores Git repositories online.\n",
    "- Share code online (public or private)\n",
    "- pull requests, branches etc.\n"
   ]
  },
  {
   "cell_type": "markdown",
   "id": "ef7df544",
   "metadata": {},
   "source": [
    "## Github Repository\n",
    "https://github.com/aravindan-source <br>\n",
    "And click on 'Repositories' and select 'New'<br>\n",
    "Sample Repository: https://github.com/aravindan-source/dummy1\n"
   ]
  },
  {
   "cell_type": "markdown",
   "id": "c99829db",
   "metadata": {},
   "source": [
    "### create a new repository on the command line\n",
    "echo \"# dummy1\" >> README.md<br>\n",
    "git init --> initialize git<br> *and do ls -a to show all hidden files*<br>\n",
    "git add . --> add all the files for tracking from this folder<br>\n",
    "git commit -m \"first commit\"<br>\n",
    "git branch -M main<br>\n",
    "git remote add origin https://github.com/aravindan-source/dummy1.git<br>\n",
    "git push -u origin main"
   ]
  },
  {
   "cell_type": "markdown",
   "id": "57c221c6",
   "metadata": {},
   "source": [
    "### push an existing repository from the command line\n",
    "git remote add origin https://github.com/aravindan-source/dummy1.git<br>\n",
    "git branch -M main<br>\n",
    "git push -u origin main<br>"
   ]
  }
 ],
 "metadata": {
  "language_info": {
   "name": "python"
  }
 },
 "nbformat": 4,
 "nbformat_minor": 5
}
