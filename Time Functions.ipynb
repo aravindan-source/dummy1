{
 "cells": [
  {
   "cell_type": "code",
   "execution_count": 12,
   "id": "0b6657a4",
   "metadata": {},
   "outputs": [
    {
     "name": "stdout",
     "output_type": "stream",
     "text": [
      "Current time in seconds since the epoch: 1751852414.979406\n",
      "Local time: time.struct_time(tm_year=2025, tm_mon=7, tm_mday=6, tm_hour=21, tm_min=40, tm_sec=14, tm_wday=6, tm_yday=187, tm_isdst=1)\n",
      "Formatted Local Time: 2025-07-06 21:40:14\n"
     ]
    }
   ],
   "source": [
    "import time\n",
    "\n",
    "t = time.time()  # Get the current time in seconds since the epoch\n",
    "print(f\"Current time in seconds since the epoch: {t}\")\n",
    "\n",
    "# Convert the time to a human-readable format\n",
    "local_time = time.localtime(t) # Convert the seconds since epoch to a time tuple in local time\n",
    "print(f\"Local time: {local_time}\") # time.struct_time(tm_year=2025, tm_mon=7, tm_mday=6, tm_hour=21, tm_min=36, tm_sec=50, tm_wday=6, tm_yday=187, tm_isdst=1)\n",
    "formatted_time = time.strftime(\"%Y-%m-%d %H:%M:%S\", local_time) # Format the local time into a string: 2025-07-06 21:36:50\n",
    "print(f\"Formatted Local Time: {formatted_time}\")\n",
    "\n",
    "## time.strftime(format, t) - Format a time tuple or timestamp into a string.\n",
    "# The `time.strftime()` function formats a time tuple or timestamp into a string according to a specified format.\n",
    "# - `format`: A string that specifies the format of the output.\n",
    "# - `t`: A time tuple (like the one returned by `time.localtime()`) or a timestamp (like the one returned by `time.time()`).\n",
    "# The format string can include various format codes, such as:\n",
    "#   - `%Y`: Year with century as a decimal number.\n",
    "#   - `%m`: Month as a zero-padded decimal number (01 to 12).\n",
    "#   - `%d`: Day of the month as a zero-padded decimal number (01 to 31).\n",
    "#   - `%H`: Hour (00 to 23).\n",
    "#   - `%M`: Minute (00 to 59).  \n",
    "#   - `%S`: Second (00 to 59).\n",
    "#   - `%A`: Full weekday name.\n",
    "#   - `%B`: Full month name.\n",
    "#   - `%I`: Hour (01 to 12).\n",
    "#   - `%p`: AM or PM.\n",
    "#   - `%Z`: Time zone name.\n",
    "#   - `%z`: UTC offset in the form +HHMM or -HHMM.\n",
    "#   - `%c`: Locale's appropriate date and time representation.\n",
    "#   - `%x`: Locale's appropriate date representation.\n",
    "#   - `%X`: Locale's appropriate time representation.\n",
    "#   - `%j`: Day of the year as a zero-padded decimal number (001 to 366).\n",
    "#   - `%U`: Week number of the year (Sunday as the first day of the week).\n",
    "#   - `%W`: Week number of the year (Monday as the first day of the week).\n",
    "#   - `%V`: ISO 8601 week number of the year (Monday as the first day of the week).\n",
    "#   - `%G`: ISO 8601 year with century as a decimal number.\n",
    "#   - `%g`: ISO 8601 year without century as a decimal number.  \n",
    "#   - `%C`: Century as a decimal number (00 to 99).\n",
    "#   - `%n`: Newline character.\n"
   ]
  }
 ],
 "metadata": {
  "kernelspec": {
   "display_name": ".venv",
   "language": "python",
   "name": "python3"
  },
  "language_info": {
   "codemirror_mode": {
    "name": "ipython",
    "version": 3
   },
   "file_extension": ".py",
   "mimetype": "text/x-python",
   "name": "python",
   "nbconvert_exporter": "python",
   "pygments_lexer": "ipython3",
   "version": "3.13.1"
  }
 },
 "nbformat": 4,
 "nbformat_minor": 5
}
